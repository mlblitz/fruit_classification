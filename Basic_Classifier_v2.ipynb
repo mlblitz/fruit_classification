{
 "cells": [
  {
   "cell_type": "code",
   "execution_count": 1,
   "id": "2b44ba5e-df25-45b4-b40e-e5e9a24aa4ca",
   "metadata": {},
   "outputs": [],
   "source": [
    "# Importing modules \n",
    "import numpy as np \n",
    "import pandas as pd \n",
    "import os\n",
    "import matplotlib.pyplot as plt\n",
    "import cv2\n",
    "import tensorflow as tf\n",
    "\n",
    "from keras.utils import to_categorical\n",
    "from keras.layers import Conv2D,MaxPooling2D,BatchNormalization,Activation,Dense,Flatten\n",
    "from keras.models import Sequential\n",
    "\n",
    "from sklearn.model_selection import train_test_split\n",
    "\n",
    "np.random.seed(1)"
   ]
  },
  {
   "cell_type": "code",
   "execution_count": 2,
   "id": "8bb3239e",
   "metadata": {},
   "outputs": [],
   "source": [
    "train_images = []       \n",
    "train_labels = []\n",
    "shape = (200,200)  \n",
    "train_path = \"C:\\School\\ECE539\\Project\\\\train\\\\train\"\n",
    "\n",
    "for filename in os.listdir(train_path):\n",
    "    if filename.split('.')[1] == 'jpg':\n",
    "        img = cv2.imread(os.path.join(train_path,filename))\n",
    "        \n",
    "        # Spliting file names and storing the labels for image in list\n",
    "        train_labels.append(filename.split('_')[0])\n",
    "        \n",
    "        # Resize all images to a specific shape\n",
    "        img = cv2.resize(img,shape)\n",
    "        \n",
    "        train_images.append(img)\n",
    "train_labels = pd.get_dummies(train_labels).values\n",
    "\n",
    "# Converting train_images to array\n",
    "train_images = np.array(train_images)\n",
    "\n",
    "# Splitting Training data into train and validation dataset\n",
    "X_train,X_val,y_train,y_val = train_test_split(train_images,train_labels,random_state=1)"
   ]
  },
  {
   "cell_type": "code",
   "execution_count": 3,
   "id": "54fee232",
   "metadata": {},
   "outputs": [],
   "source": [
    "test_images = []\n",
    "test_labels = []\n",
    "shape = (200,200)\n",
    "test_path = \"C:\\School\\ECE539\\Project\\\\test\\\\test\"\n",
    "\n",
    "for filename in os.listdir(test_path):\n",
    "    if filename.split('.')[1] == 'jpg':\n",
    "        img = cv2.imread(os.path.join(test_path,filename))\n",
    "        \n",
    "        # Spliting file names and storing the labels for image in list\n",
    "        test_labels.append(filename.split('_')[0])\n",
    "        \n",
    "        # Resize all images to a specific shape\n",
    "        img = cv2.resize(img,shape)\n",
    "        \n",
    "        test_images.append(img)\n",
    "        \n",
    "# Converting test_images to array\n",
    "X_test = np.array(test_images)\n",
    "y_test = pd.get_dummies(test_labels).values"
   ]
  },
  {
   "cell_type": "code",
   "execution_count": 4,
   "id": "767fa089",
   "metadata": {},
   "outputs": [
    {
     "name": "stdout",
     "output_type": "stream",
     "text": [
      "Train: X=(180, 200, 200, 3), y=(180, 4)\n",
      "Val  : X=(60, 200, 200, 3), y=(60, 4)\n",
      "Test : X=(60, 200, 200, 3), y=(60, 4)\n"
     ]
    }
   ],
   "source": [
    "print('Train: X=%s, y=%s' % (X_train.shape, y_train.shape))\n",
    "print('Val  : X=%s, y=%s' % (X_val.shape, y_val.shape))\n",
    "print('Test : X=%s, y=%s' % (X_test.shape, y_test.shape))"
   ]
  },
  {
   "cell_type": "code",
   "execution_count": 5,
   "id": "31f31aac",
   "metadata": {},
   "outputs": [],
   "source": [
    "# net = Sequential()\n",
    "# net.add(Conv2D(32, (3, 3), padding='same', input_shape=(200, 200, 3)))\n",
    "# net.add(BatchNormalization())\n",
    "# net.add(Activation('relu'))\n",
    "\n",
    "# net.add(MaxPooling2D((2, 2),strides=2))\n",
    "\n",
    "# net.add(Conv2D(30, (3, 3), padding='same'))\n",
    "# net.add(BatchNormalization())\n",
    "# net.add(Activation('relu'))\n",
    "\n",
    "# net.add(MaxPooling2D((2, 2),strides=2))\n",
    "\n",
    "# net.add(Conv2D(30, (3, 3), padding='same'))\n",
    "# net.add(BatchNormalization())\n",
    "# net.add(Activation('relu'))\n",
    "\n",
    "# net.add(Flatten())\n",
    "# net.add(Dense(4, activation='softmax'))"
   ]
  },
  {
   "cell_type": "code",
   "execution_count": 6,
   "id": "c7a0753b",
   "metadata": {},
   "outputs": [],
   "source": [
    "# Creating a Sequential model\n",
    "net= Sequential()\n",
    "net.add(Conv2D(kernel_size=(3,3), filters=32, activation='tanh', input_shape=(200,200,3,)))\n",
    "net.add(Conv2D(filters=30,kernel_size = (3,3),activation='tanh'))\n",
    "net.add(MaxPooling2D(2,2))\n",
    "net.add(Conv2D(filters=30,kernel_size = (3,3),activation='tanh'))\n",
    "net.add(MaxPooling2D(2,2))\n",
    "net.add(Conv2D(filters=30,kernel_size = (3,3),activation='tanh'))\n",
    "\n",
    "net.add(Flatten())\n",
    "\n",
    "net.add(Dense(20,activation='relu'))\n",
    "net.add(Dense(15,activation='relu'))\n",
    "net.add(Dense(4,activation = 'softmax'))\n",
    "\n",
    "# net.compile(\n",
    "#               loss='categorical_crossentropy', \n",
    "#               metrics=['acc'],\n",
    "#               optimizer='adam'\n",
    "#              )\n"
   ]
  },
  {
   "cell_type": "code",
   "execution_count": 7,
   "id": "7faa9fcb",
   "metadata": {},
   "outputs": [
    {
     "name": "stdout",
     "output_type": "stream",
     "text": [
      "Model: \"sequential\"\n",
      "_________________________________________________________________\n",
      " Layer (type)                Output Shape              Param #   \n",
      "=================================================================\n",
      " conv2d (Conv2D)             (None, 198, 198, 32)      896       \n",
      "                                                                 \n",
      " conv2d_1 (Conv2D)           (None, 196, 196, 30)      8670      \n",
      "                                                                 \n",
      " max_pooling2d (MaxPooling2D  (None, 98, 98, 30)       0         \n",
      " )                                                               \n",
      "                                                                 \n",
      " conv2d_2 (Conv2D)           (None, 96, 96, 30)        8130      \n",
      "                                                                 \n",
      " max_pooling2d_1 (MaxPooling  (None, 48, 48, 30)       0         \n",
      " 2D)                                                             \n",
      "                                                                 \n",
      " conv2d_3 (Conv2D)           (None, 46, 46, 30)        8130      \n",
      "                                                                 \n",
      " flatten (Flatten)           (None, 63480)             0         \n",
      "                                                                 \n",
      " dense (Dense)               (None, 20)                1269620   \n",
      "                                                                 \n",
      " dense_1 (Dense)             (None, 15)                315       \n",
      "                                                                 \n",
      " dense_2 (Dense)             (None, 4)                 64        \n",
      "                                                                 \n",
      "=================================================================\n",
      "Total params: 1,295,825\n",
      "Trainable params: 1,295,825\n",
      "Non-trainable params: 0\n",
      "_________________________________________________________________\n"
     ]
    }
   ],
   "source": [
    "net.summary()"
   ]
  },
  {
   "cell_type": "code",
   "execution_count": 8,
   "id": "58876b07",
   "metadata": {},
   "outputs": [],
   "source": [
    "# history = net.fit(X_train,y_train,epochs=50,batch_size=50,validation_data=(X_val,y_val))"
   ]
  },
  {
   "cell_type": "code",
   "execution_count": 9,
   "id": "7dad6e4c",
   "metadata": {},
   "outputs": [],
   "source": [
    "# # Hyperparameters\n",
    "# lr = 0.1\n",
    "# mom = 0.9 \n",
    "ep = 50\n",
    "bs = 50"
   ]
  },
  {
   "cell_type": "code",
   "execution_count": 10,
   "id": "316cd993",
   "metadata": {},
   "outputs": [
    {
     "name": "stdout",
     "output_type": "stream",
     "text": [
      "Epoch 1/50\n",
      "4/4 [==============================] - 6s 1s/step - loss: 2.9711 - accuracy: 0.3278 - val_loss: 4.6383 - val_accuracy: 0.3833\n",
      "Epoch 2/50\n",
      "4/4 [==============================] - 6s 1s/step - loss: 4.1158 - accuracy: 0.3333 - val_loss: 3.8850 - val_accuracy: 0.5000\n",
      "Epoch 3/50\n",
      "4/4 [==============================] - 6s 1s/step - loss: 3.7713 - accuracy: 0.5667 - val_loss: 1.2747 - val_accuracy: 0.6167\n",
      "Epoch 4/50\n",
      "4/4 [==============================] - 6s 1s/step - loss: 1.0861 - accuracy: 0.6611 - val_loss: 1.1371 - val_accuracy: 0.5500\n",
      "Epoch 5/50\n",
      "4/4 [==============================] - 6s 1s/step - loss: 0.8532 - accuracy: 0.6778 - val_loss: 0.5693 - val_accuracy: 0.8000\n",
      "Epoch 6/50\n",
      "4/4 [==============================] - 6s 1s/step - loss: 0.5011 - accuracy: 0.8167 - val_loss: 0.5730 - val_accuracy: 0.7833\n",
      "Epoch 7/50\n",
      "4/4 [==============================] - 6s 1s/step - loss: 0.4912 - accuracy: 0.8389 - val_loss: 0.7661 - val_accuracy: 0.8167\n",
      "Epoch 8/50\n",
      "4/4 [==============================] - 6s 2s/step - loss: 0.4620 - accuracy: 0.8278 - val_loss: 0.5820 - val_accuracy: 0.8167\n",
      "Epoch 9/50\n",
      "4/4 [==============================] - 6s 2s/step - loss: 0.3217 - accuracy: 0.8611 - val_loss: 0.4460 - val_accuracy: 0.8333\n",
      "Epoch 10/50\n",
      "4/4 [==============================] - 7s 2s/step - loss: 0.2217 - accuracy: 0.9167 - val_loss: 0.4881 - val_accuracy: 0.8333\n",
      "Epoch 11/50\n",
      "4/4 [==============================] - 8s 2s/step - loss: 0.1710 - accuracy: 0.9333 - val_loss: 0.5058 - val_accuracy: 0.8833\n",
      "Epoch 12/50\n",
      "4/4 [==============================] - 9s 2s/step - loss: 0.1283 - accuracy: 0.9444 - val_loss: 0.5739 - val_accuracy: 0.8167\n",
      "Epoch 13/50\n",
      "4/4 [==============================] - 7s 2s/step - loss: 0.1054 - accuracy: 0.9722 - val_loss: 0.4878 - val_accuracy: 0.8333\n",
      "Epoch 14/50\n",
      "4/4 [==============================] - 7s 2s/step - loss: 0.0998 - accuracy: 0.9611 - val_loss: 0.5606 - val_accuracy: 0.8333\n",
      "Epoch 15/50\n",
      "4/4 [==============================] - 7s 2s/step - loss: 0.0898 - accuracy: 0.9667 - val_loss: 0.5844 - val_accuracy: 0.8333\n",
      "Epoch 16/50\n",
      "4/4 [==============================] - 6s 2s/step - loss: 0.0756 - accuracy: 0.9778 - val_loss: 0.5939 - val_accuracy: 0.8167\n",
      "Epoch 17/50\n",
      "4/4 [==============================] - 6s 2s/step - loss: 0.0565 - accuracy: 0.9778 - val_loss: 0.6195 - val_accuracy: 0.8333\n",
      "Epoch 18/50\n",
      "4/4 [==============================] - 7s 2s/step - loss: 0.0522 - accuracy: 0.9833 - val_loss: 0.6754 - val_accuracy: 0.8167\n",
      "Epoch 19/50\n",
      "4/4 [==============================] - 7s 2s/step - loss: 0.0505 - accuracy: 0.9833 - val_loss: 0.6567 - val_accuracy: 0.8333\n",
      "Epoch 20/50\n",
      "4/4 [==============================] - 6s 2s/step - loss: 0.0459 - accuracy: 0.9833 - val_loss: 0.6154 - val_accuracy: 0.8500\n",
      "Epoch 21/50\n",
      "4/4 [==============================] - 6s 2s/step - loss: 0.0422 - accuracy: 0.9833 - val_loss: 0.5958 - val_accuracy: 0.8500\n",
      "Epoch 22/50\n",
      "4/4 [==============================] - 6s 2s/step - loss: 0.0402 - accuracy: 0.9833 - val_loss: 0.5661 - val_accuracy: 0.8500\n",
      "Epoch 23/50\n",
      "4/4 [==============================] - 6s 2s/step - loss: 0.0370 - accuracy: 0.9889 - val_loss: 0.5524 - val_accuracy: 0.8500\n",
      "Epoch 24/50\n",
      "4/4 [==============================] - 7s 2s/step - loss: 0.0350 - accuracy: 0.9889 - val_loss: 0.5383 - val_accuracy: 0.8500\n",
      "Epoch 25/50\n",
      "4/4 [==============================] - 7s 2s/step - loss: 0.0326 - accuracy: 0.9889 - val_loss: 0.5313 - val_accuracy: 0.8500\n",
      "Epoch 26/50\n",
      "4/4 [==============================] - 6s 2s/step - loss: 0.0310 - accuracy: 0.9889 - val_loss: 0.5281 - val_accuracy: 0.8667\n",
      "Epoch 27/50\n",
      "4/4 [==============================] - 7s 2s/step - loss: 0.0311 - accuracy: 0.9889 - val_loss: 0.5348 - val_accuracy: 0.8500\n",
      "Epoch 28/50\n",
      "4/4 [==============================] - 7s 2s/step - loss: 0.0274 - accuracy: 0.9889 - val_loss: 0.5454 - val_accuracy: 0.8500\n",
      "Epoch 29/50\n",
      "4/4 [==============================] - 6s 2s/step - loss: 0.0260 - accuracy: 0.9889 - val_loss: 0.5501 - val_accuracy: 0.8500\n",
      "Epoch 30/50\n",
      "4/4 [==============================] - 6s 2s/step - loss: 0.0255 - accuracy: 0.9889 - val_loss: 0.5401 - val_accuracy: 0.8500\n",
      "Epoch 31/50\n",
      "4/4 [==============================] - 6s 2s/step - loss: 0.0237 - accuracy: 0.9889 - val_loss: 0.5251 - val_accuracy: 0.8667\n",
      "Epoch 32/50\n",
      "4/4 [==============================] - 6s 2s/step - loss: 0.0220 - accuracy: 0.9889 - val_loss: 0.5404 - val_accuracy: 0.8500\n",
      "Epoch 33/50\n",
      "4/4 [==============================] - 7s 2s/step - loss: 0.0203 - accuracy: 0.9944 - val_loss: 0.5611 - val_accuracy: 0.8500\n",
      "Epoch 34/50\n",
      "4/4 [==============================] - 7s 2s/step - loss: 0.0196 - accuracy: 0.9944 - val_loss: 0.5599 - val_accuracy: 0.8333\n",
      "Epoch 35/50\n",
      "4/4 [==============================] - 7s 2s/step - loss: 0.0182 - accuracy: 0.9944 - val_loss: 0.5649 - val_accuracy: 0.8500\n",
      "Epoch 36/50\n",
      "4/4 [==============================] - 7s 2s/step - loss: 0.0173 - accuracy: 0.9944 - val_loss: 0.5700 - val_accuracy: 0.8500\n",
      "Epoch 37/50\n",
      "4/4 [==============================] - 8s 2s/step - loss: 0.0163 - accuracy: 1.0000 - val_loss: 0.5822 - val_accuracy: 0.8333\n",
      "Epoch 38/50\n",
      "4/4 [==============================] - 7s 2s/step - loss: 0.0154 - accuracy: 1.0000 - val_loss: 0.5853 - val_accuracy: 0.8333\n",
      "Epoch 39/50\n",
      "4/4 [==============================] - 7s 2s/step - loss: 0.0146 - accuracy: 1.0000 - val_loss: 0.5806 - val_accuracy: 0.8500\n",
      "Epoch 40/50\n",
      "4/4 [==============================] - 7s 2s/step - loss: 0.0141 - accuracy: 1.0000 - val_loss: 0.5700 - val_accuracy: 0.8500\n",
      "Epoch 41/50\n",
      "4/4 [==============================] - 7s 2s/step - loss: 0.0129 - accuracy: 1.0000 - val_loss: 0.5906 - val_accuracy: 0.8500\n",
      "Epoch 42/50\n",
      "4/4 [==============================] - 8s 2s/step - loss: 0.0128 - accuracy: 1.0000 - val_loss: 0.5995 - val_accuracy: 0.8500\n",
      "Epoch 43/50\n",
      "4/4 [==============================] - 7s 2s/step - loss: 0.0115 - accuracy: 1.0000 - val_loss: 0.5904 - val_accuracy: 0.8500\n",
      "Epoch 44/50\n",
      "4/4 [==============================] - 7s 2s/step - loss: 0.0109 - accuracy: 1.0000 - val_loss: 0.5960 - val_accuracy: 0.8500\n",
      "Epoch 45/50\n",
      "4/4 [==============================] - 7s 2s/step - loss: 0.0103 - accuracy: 1.0000 - val_loss: 0.6061 - val_accuracy: 0.8500\n",
      "Epoch 46/50\n",
      "4/4 [==============================] - 7s 2s/step - loss: 0.0101 - accuracy: 1.0000 - val_loss: 0.5978 - val_accuracy: 0.8667\n",
      "Epoch 47/50\n",
      "4/4 [==============================] - 7s 2s/step - loss: 0.0098 - accuracy: 1.0000 - val_loss: 0.5860 - val_accuracy: 0.8500\n",
      "Epoch 48/50\n",
      "4/4 [==============================] - 7s 2s/step - loss: 0.0093 - accuracy: 1.0000 - val_loss: 0.6047 - val_accuracy: 0.8667\n",
      "Epoch 49/50\n",
      "4/4 [==============================] - 7s 2s/step - loss: 0.0089 - accuracy: 1.0000 - val_loss: 0.6177 - val_accuracy: 0.8667\n",
      "Epoch 50/50\n",
      "4/4 [==============================] - 7s 2s/step - loss: 0.0087 - accuracy: 1.0000 - val_loss: 0.5838 - val_accuracy: 0.8667\n"
     ]
    },
    {
     "data": {
      "text/plain": [
       "<tensorflow.python.checkpoint.checkpoint.CheckpointLoadStatus at 0x19dc25df2e0>"
      ]
     },
     "execution_count": 10,
     "metadata": {},
     "output_type": "execute_result"
    }
   ],
   "source": [
    "# # compile and fit the keras model\n",
    "# # from tensorflow.keras.optimizers import SGD\n",
    "# # opt = SGD(learning_rate=lr, momentum=mom)\n",
    "net.compile(loss='categorical_crossentropy', metrics=['accuracy'],optimizer='adam')\n",
    "\n",
    "\n",
    "# insert model check point call back\n",
    "checkpoint_filepath = 'tmp/checkpoint'\n",
    "model_checkpoint_callback = tf.keras.callbacks.ModelCheckpoint(\n",
    "    filepath=checkpoint_filepath,\n",
    "    save_weights_only=True,\n",
    "    monitor='val_accuracy',\n",
    "    mode='max',\n",
    "    save_best_only=True)\n",
    "# Model weights are saved at the end of every epoch, if it's the best seen\n",
    "# so far.\n",
    "history = net.fit(X_train, y_train, epochs=ep, batch_size=bs, validation_data=(X_val,y_val) , verbose=1, callbacks=[model_checkpoint_callback])\n",
    "# The model weights (that are considered the best) are loaded into the model.\n",
    "net.load_weights(checkpoint_filepath)"
   ]
  },
  {
   "cell_type": "code",
   "execution_count": 11,
   "id": "5e08f9a3",
   "metadata": {},
   "outputs": [],
   "source": [
    "# You can visualize the results with a confusion matrix.\n",
    "import seaborn as sn\n",
    "import numpy as np\n",
    "import matplotlib.pyplot as plt\n",
    "def plot_confusion_matrix(y_classified, y_true):\n",
    "  # Compute confusion matrix\n",
    "    c_mat = np.zeros((y_test.shape[1],y_test.shape[1]))\n",
    "    for i in range(len(y_true)):\n",
    "        c_mat[y_classified[i], y_true[i] ] += 1\n",
    "\n",
    "    group_counts = [\"{0:0.0f}\".format(value) for value in c_mat.flatten()]\n",
    "    group_percentages = [\"{0:.2%}\".format(value) for value in c_mat.flatten()/np.sum(c_mat)]\n",
    "    labels = [f\"{v1}\\n{v2}\" for v1, v2 in zip(group_counts, group_percentages)]\n",
    "    labels = np.asarray(labels).reshape(c_mat.shape[0], c_mat.shape[1])\n",
    "\n",
    "    plt.figure(figsize=(12,10))\n",
    "    sn.heatmap(c_mat, annot=labels, fmt='', cmap='rocket_r')\n",
    "    plt.title(\"Confusion Matrix\")\n",
    "    plt.ylabel('Output Class')\n",
    "    plt.xlabel('Target Class')"
   ]
  },
  {
   "cell_type": "code",
   "execution_count": 12,
   "id": "1d209f84",
   "metadata": {},
   "outputs": [
    {
     "name": "stdout",
     "output_type": "stream",
     "text": [
      "2/2 [==============================] - 0s 214ms/step - loss: 0.7113 - accuracy: 0.8500\n",
      "Test loss: 0.7113407254219055\n",
      "Test accuracy: 0.8500000238418579\n",
      "2/2 [==============================] - 1s 220ms/step\n",
      "Confusion matrix: \n",
      " [[18  1  0  0]\n",
      " [ 1 16  1  0]\n",
      " [ 1  1  2  1]\n",
      " [ 0  0  3 15]]\n"
     ]
    },
    {
     "data": {
      "image/png": "[encoded data removed]",
      "text/plain": [
       "<Figure size 864x720 with 2 Axes>"
      ]
     },
     "metadata": {
      "needs_background": "light"
     },
     "output_type": "display_data"
    }
   ],
   "source": [
    "# Evaluate the trained model using keras built-in function\n",
    "score = net.evaluate(X_test, y_test, verbose=1)\n",
    "print(\"Test loss:\", score[0])\n",
    "print(\"Test accuracy:\", score[1]) \n",
    "\n",
    "y_classified = np.argmax(net.predict(X_test), axis=1)\n",
    "y_true =  np.argmax(y_test, axis=1)\n",
    "# Compute the confusion matrix\n",
    "from sklearn.metrics import confusion_matrix, accuracy_score\n",
    "print(\"Confusion matrix: \\n\", confusion_matrix(y_true, y_classified))\n",
    "\n",
    "# plot confusion matrix\n",
    "plot_confusion_matrix(y_classified, y_true)"
   ]
  },
  {
   "cell_type": "code",
   "execution_count": 13,
   "id": "60453708",
   "metadata": {},
   "outputs": [
    {
     "name": "stdout",
     "output_type": "stream",
     "text": [
      "Confusion matrix: \n",
      " [[18  1  0  0]\n",
      " [ 1 16  1  0]\n",
      " [ 1  1  2  1]\n",
      " [ 0  0  3 15]]\n",
      "P(classification) = 0.85\n"
     ]
    }
   ],
   "source": [
    "# Compute the confusion matrix\n",
    "from sklearn.metrics import confusion_matrix, accuracy_score\n",
    "print(\"Confusion matrix: \\n\", confusion_matrix(y_true, y_classified))\n",
    "print(\"P(classification) =\", np.round(accuracy_score(y_true, y_classified), 3))"
   ]
  },
  {
   "cell_type": "code",
   "execution_count": null,
   "id": "c4f661a9",
   "metadata": {},
   "outputs": [],
   "source": []
  }
 ],
 "metadata": {
  "kernelspec": {
   "display_name": "Python 3 (ipykernel)",
   "language": "python",
   "name": "python3"
  },
  "language_info": {
   "codemirror_mode": {
    "name": "ipython",
    "version": 3
   },
   "file_extension": ".py",
   "mimetype": "text/x-python",
   "name": "python",
   "nbconvert_exporter": "python",
   "pygments_lexer": "ipython3",
   "version": "3.10.4"
  },
  "toc-autonumbering": true,
  "toc-showcode": true,
  "toc-showmarkdowntxt": false
 },
 "nbformat": 4,
 "nbformat_minor": 5
}
