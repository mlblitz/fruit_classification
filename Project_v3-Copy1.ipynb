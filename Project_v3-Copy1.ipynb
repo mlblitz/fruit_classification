{
 "cells": [
  {
   "cell_type": "code",
   "execution_count": 1,
   "id": "2b44ba5e-df25-45b4-b40e-e5e9a24aa4ca",
   "metadata": {},
   "outputs": [],
   "source": [
    "# Importing modules \n",
    "import numpy as np \n",
    "import pandas as pd \n",
    "import os\n",
    "import matplotlib.pyplot as plt\n",
    "import cv2\n",
    "import tensorflow as tf\n",
    "\n",
    "from keras.utils import to_categorical\n",
    "from keras.layers import Conv2D,MaxPooling2D,BatchNormalization,Activation,Dense,Flatten\n",
    "from keras.models import Sequential\n",
    "\n",
    "from sklearn.model_selection import train_test_split\n",
    "\n",
    "np.random.seed(1)"
   ]
  },
  {
   "cell_type": "code",
   "execution_count": 2,
   "id": "8bb3239e",
   "metadata": {},
   "outputs": [],
   "source": [
    "train_images = []       \n",
    "train_labels = []\n",
    "shape = (200,200)  \n",
    "train_path = \"C:\\School\\ECE539\\Project\\\\train\\\\train\"\n",
    "\n",
    "for filename in os.listdir(train_path):\n",
    "    if filename.split('.')[1] == 'jpg':\n",
    "        imgResize = cv2.imread(os.path.join(train_path,filename))\n",
    "        imgRotate = cv2.imread(os.path.join(train_path,filename))\n",
    "        \n",
    "        # Spliting file names and storing the labels for image in list\n",
    "        train_labels.append(filename.split('_')[0])\n",
    "        train_labels.append(filename.split('_')[0])\n",
    "        \n",
    "        # Resize all images to a specific shape\n",
    "        imgResize = cv2.resize(imgResize,shape)\n",
    "\n",
    "        # Rotate all images\n",
    "        imgRotate = cv2.resize(imgResize,shape)\n",
    "        imgRotate = cv2.rotate(imgRotate, cv2.ROTATE_90_CLOCKWISE)\n",
    "        \n",
    "        train_images.append(imgRotate)\n",
    "        train_images.append(imgResize)\n",
    "        \n",
    "train_labels = pd.get_dummies(train_labels).values\n",
    "\n",
    "# Converting train_images to array\n",
    "train_images = np.array(train_images)\n",
    "\n",
    "\n",
    "# Splitting Training data into train and validation dataset\n",
    "X_train,X_val,y_train,y_val = train_test_split(train_images,train_labels,random_state=1)"
   ]
  },
  {
   "cell_type": "code",
   "execution_count": 3,
   "id": "54fee232",
   "metadata": {},
   "outputs": [],
   "source": [
    "test_images = []\n",
    "test_labels = []\n",
    "shape = (200,200)\n",
    "test_path = \"C:\\School\\ECE539\\Project\\\\test\\\\test\"\n",
    "\n",
    "for filename in os.listdir(test_path):\n",
    "    if filename.split('.')[1] == 'jpg':\n",
    "        img = cv2.imread(os.path.join(test_path,filename))\n",
    "        \n",
    "        # Spliting file names and storing the labels for image in list\n",
    "        test_labels.append(filename.split('_')[0])\n",
    "        \n",
    "        # Resize all images to a specific shape\n",
    "        img = cv2.resize(img,shape)\n",
    "        \n",
    "        test_images.append(img)\n",
    "        \n",
    "# Converting test_images to array\n",
    "X_test = np.array(test_images)\n",
    "y_test = pd.get_dummies(test_labels).values"
   ]
  },
  {
   "cell_type": "code",
   "execution_count": 4,
   "id": "767fa089",
   "metadata": {},
   "outputs": [
    {
     "name": "stdout",
     "output_type": "stream",
     "text": [
      "Train: X=(360, 200, 200, 3), y=(360, 4)\n",
      "Val  : X=(120, 200, 200, 3), y=(120, 4)\n",
      "Test : X=(60, 200, 200, 3), y=(60, 4)\n"
     ]
    }
   ],
   "source": [
    "print('Train: X=%s, y=%s' % (X_train.shape, y_train.shape))\n",
    "print('Val  : X=%s, y=%s' % (X_val.shape, y_val.shape))\n",
    "print('Test : X=%s, y=%s' % (X_test.shape, y_test.shape))"
   ]
  },
  {
   "cell_type": "code",
   "execution_count": 5,
   "id": "31f31aac",
   "metadata": {},
   "outputs": [],
   "source": [
    "net = Sequential()\n",
    "net.add(Conv2D(32, (3, 3), padding='same', input_shape=(200, 200, 3)))\n",
    "net.add(BatchNormalization())\n",
    "net.add(Activation('relu'))\n",
    "\n",
    "net.add(MaxPooling2D((2, 2),strides=2))\n",
    "\n",
    "net.add(Conv2D(30, (3, 3), padding='same'))\n",
    "net.add(BatchNormalization())\n",
    "net.add(Activation('relu'))\n",
    "\n",
    "net.add(MaxPooling2D((2, 2),strides=2))\n",
    "\n",
    "net.add(Conv2D(30, (3, 3), padding='same'))\n",
    "net.add(BatchNormalization())\n",
    "net.add(Activation('relu'))\n",
    "\n",
    "net.add(Flatten())\n",
    "\n",
    "net.add(Dense(20,activation='relu'))\n",
    "net.add(Dense(15,activation='relu'))\n",
    "net.add(Dense(4,activation = 'softmax'))"
   ]
  },
  {
   "cell_type": "code",
   "execution_count": 6,
   "id": "c7a0753b",
   "metadata": {},
   "outputs": [],
   "source": [
    "# Creating a Sequential model\n",
    "# net= Sequential()\n",
    "# net.add(Conv2D(kernel_size=(3,3), filters=32, activation='relu', input_shape=(200,200,3,)))\n",
    "# net.add(Conv2D(filters=30,kernel_size = (3,3),activation='relu'))\n",
    "# net.add(MaxPooling2D(2,2))\n",
    "# net.add(Conv2D(filters=30,kernel_size = (3,3),activation='relu'))\n",
    "# net.add(MaxPooling2D(2,2))\n",
    "# net.add(Conv2D(filters=30,kernel_size = (3,3),activation='relu'))\n",
    "\n",
    "# net.add(Flatten())\n",
    "\n",
    "# net.add(Dense(20,activation='relu'))\n",
    "# net.add(Dense(15,activation='relu'))\n",
    "# net.add(Dense(4,activation = 'softmax'))\n",
    "\n",
    "# # net.compile(\n",
    "# #               loss='categorical_crossentropy', \n",
    "# #               metrics=['acc'],\n",
    "# #               optimizer='adam'\n",
    "# #              )\n"
   ]
  },
  {
   "cell_type": "code",
   "execution_count": 7,
   "id": "7faa9fcb",
   "metadata": {},
   "outputs": [
    {
     "name": "stdout",
     "output_type": "stream",
     "text": [
      "Model: \"sequential\"\n",
      "_________________________________________________________________\n",
      " Layer (type)                Output Shape              Param #   \n",
      "=================================================================\n",
      " conv2d (Conv2D)             (None, 200, 200, 32)      896       \n",
      "                                                                 \n",
      " batch_normalization (BatchN  (None, 200, 200, 32)     128       \n",
      " ormalization)                                                   \n",
      "                                                                 \n",
      " activation (Activation)     (None, 200, 200, 32)      0         \n",
      "                                                                 \n",
      " max_pooling2d (MaxPooling2D  (None, 100, 100, 32)     0         \n",
      " )                                                               \n",
      "                                                                 \n",
      " conv2d_1 (Conv2D)           (None, 100, 100, 30)      8670      \n",
      "                                                                 \n",
      " batch_normalization_1 (Batc  (None, 100, 100, 30)     120       \n",
      " hNormalization)                                                 \n",
      "                                                                 \n",
      " activation_1 (Activation)   (None, 100, 100, 30)      0         \n",
      "                                                                 \n",
      " max_pooling2d_1 (MaxPooling  (None, 50, 50, 30)       0         \n",
      " 2D)                                                             \n",
      "                                                                 \n",
      " conv2d_2 (Conv2D)           (None, 50, 50, 30)        8130      \n",
      "                                                                 \n",
      " batch_normalization_2 (Batc  (None, 50, 50, 30)       120       \n",
      " hNormalization)                                                 \n",
      "                                                                 \n",
      " activation_2 (Activation)   (None, 50, 50, 30)        0         \n",
      "                                                                 \n",
      " flatten (Flatten)           (None, 75000)             0         \n",
      "                                                                 \n",
      " dense (Dense)               (None, 20)                1500020   \n",
      "                                                                 \n",
      " dense_1 (Dense)             (None, 15)                315       \n",
      "                                                                 \n",
      " dense_2 (Dense)             (None, 4)                 64        \n",
      "                                                                 \n",
      "=================================================================\n",
      "Total params: 1,518,463\n",
      "Trainable params: 1,518,279\n",
      "Non-trainable params: 184\n",
      "_________________________________________________________________\n"
     ]
    }
   ],
   "source": [
    "net.summary()"
   ]
  },
  {
   "cell_type": "code",
   "execution_count": 8,
   "id": "58876b07",
   "metadata": {},
   "outputs": [],
   "source": [
    "# history = net.fit(X_train,y_train,epochs=50,batch_size=50,validation_data=(X_val,y_val))"
   ]
  },
  {
   "cell_type": "code",
   "execution_count": 9,
   "id": "7dad6e4c",
   "metadata": {},
   "outputs": [],
   "source": [
    "# # Hyperparameters\n",
    "# lr = 0.1\n",
    "# mom = 0.9 \n",
    "ep = 50\n",
    "bs = 50"
   ]
  },
  {
   "cell_type": "code",
   "execution_count": 10,
   "id": "316cd993",
   "metadata": {},
   "outputs": [
    {
     "name": "stdout",
     "output_type": "stream",
     "text": [
      "Epoch 1/50\n",
      "8/8 [==============================] - 9s 1s/step - loss: 6.3643 - accuracy: 0.3611 - val_loss: 21.2575 - val_accuracy: 0.2750\n",
      "Epoch 2/50\n",
      "8/8 [==============================] - 8s 993ms/step - loss: 1.1362 - accuracy: 0.7389 - val_loss: 7.4946 - val_accuracy: 0.3250\n",
      "Epoch 3/50\n",
      "8/8 [==============================] - 8s 1s/step - loss: 0.5979 - accuracy: 0.7556 - val_loss: 5.5650 - val_accuracy: 0.4833\n",
      "Epoch 4/50\n",
      "8/8 [==============================] - 8s 989ms/step - loss: 0.3513 - accuracy: 0.8556 - val_loss: 5.1603 - val_accuracy: 0.4417\n",
      "Epoch 5/50\n",
      "8/8 [==============================] - 9s 1s/step - loss: 0.2830 - accuracy: 0.9028 - val_loss: 2.9094 - val_accuracy: 0.5417\n",
      "Epoch 6/50\n",
      "8/8 [==============================] - 11s 1s/step - loss: 0.2958 - accuracy: 0.8861 - val_loss: 2.5654 - val_accuracy: 0.5917\n",
      "Epoch 7/50\n",
      "8/8 [==============================] - 11s 1s/step - loss: 0.2361 - accuracy: 0.9194 - val_loss: 2.3006 - val_accuracy: 0.5750\n",
      "Epoch 8/50\n",
      "8/8 [==============================] - 11s 1s/step - loss: 0.1992 - accuracy: 0.9222 - val_loss: 2.0512 - val_accuracy: 0.5917\n",
      "Epoch 9/50\n",
      "8/8 [==============================] - 10s 1s/step - loss: 0.1804 - accuracy: 0.9306 - val_loss: 2.0373 - val_accuracy: 0.6083\n",
      "Epoch 10/50\n",
      "8/8 [==============================] - 10s 1s/step - loss: 0.3214 - accuracy: 0.8861 - val_loss: 1.9198 - val_accuracy: 0.5833\n",
      "Epoch 11/50\n",
      "8/8 [==============================] - 10s 1s/step - loss: 0.3555 - accuracy: 0.8917 - val_loss: 2.9514 - val_accuracy: 0.5083\n",
      "Epoch 12/50\n",
      "8/8 [==============================] - 10s 1s/step - loss: 0.2469 - accuracy: 0.9111 - val_loss: 3.5408 - val_accuracy: 0.5417\n",
      "Epoch 13/50\n",
      "8/8 [==============================] - 10s 1s/step - loss: 0.1618 - accuracy: 0.9250 - val_loss: 3.7669 - val_accuracy: 0.5250\n",
      "Epoch 14/50\n",
      "8/8 [==============================] - 10s 1s/step - loss: 0.1555 - accuracy: 0.9444 - val_loss: 3.4369 - val_accuracy: 0.5750\n",
      "Epoch 15/50\n",
      "8/8 [==============================] - 10s 1s/step - loss: 0.1350 - accuracy: 0.9417 - val_loss: 2.6780 - val_accuracy: 0.5917\n",
      "Epoch 16/50\n",
      "8/8 [==============================] - 11s 1s/step - loss: 0.1469 - accuracy: 0.9389 - val_loss: 1.8229 - val_accuracy: 0.6167\n",
      "Epoch 17/50\n",
      "8/8 [==============================] - 12s 2s/step - loss: 0.0925 - accuracy: 0.9611 - val_loss: 2.1463 - val_accuracy: 0.6000\n",
      "Epoch 18/50\n",
      "8/8 [==============================] - 12s 1s/step - loss: 0.0874 - accuracy: 0.9694 - val_loss: 2.1560 - val_accuracy: 0.6583\n",
      "Epoch 19/50\n",
      "8/8 [==============================] - 14s 2s/step - loss: 0.0690 - accuracy: 0.9750 - val_loss: 1.4097 - val_accuracy: 0.6833\n",
      "Epoch 20/50\n",
      "8/8 [==============================] - 12s 2s/step - loss: 0.0648 - accuracy: 0.9750 - val_loss: 1.3337 - val_accuracy: 0.6917\n",
      "Epoch 21/50\n",
      "8/8 [==============================] - 12s 1s/step - loss: 0.1565 - accuracy: 0.9583 - val_loss: 1.2096 - val_accuracy: 0.7083\n",
      "Epoch 22/50\n",
      "8/8 [==============================] - 13s 2s/step - loss: 0.1593 - accuracy: 0.9611 - val_loss: 0.9556 - val_accuracy: 0.7667\n",
      "Epoch 23/50\n",
      "8/8 [==============================] - 11s 1s/step - loss: 0.0973 - accuracy: 0.9722 - val_loss: 0.8584 - val_accuracy: 0.8083\n",
      "Epoch 24/50\n",
      "8/8 [==============================] - 11s 1s/step - loss: 0.0799 - accuracy: 0.9750 - val_loss: 1.3044 - val_accuracy: 0.7083\n",
      "Epoch 25/50\n",
      "8/8 [==============================] - 12s 2s/step - loss: 0.0472 - accuracy: 0.9861 - val_loss: 1.3784 - val_accuracy: 0.7417\n",
      "Epoch 26/50\n",
      "8/8 [==============================] - 11s 1s/step - loss: 0.0474 - accuracy: 0.9833 - val_loss: 0.9149 - val_accuracy: 0.7750\n",
      "Epoch 27/50\n",
      "8/8 [==============================] - 12s 2s/step - loss: 0.0341 - accuracy: 0.9917 - val_loss: 0.8214 - val_accuracy: 0.7833\n",
      "Epoch 28/50\n",
      "8/8 [==============================] - 12s 2s/step - loss: 0.0302 - accuracy: 0.9917 - val_loss: 0.7455 - val_accuracy: 0.8000\n",
      "Epoch 29/50\n",
      "8/8 [==============================] - 12s 1s/step - loss: 0.0278 - accuracy: 0.9889 - val_loss: 0.8386 - val_accuracy: 0.7500\n",
      "Epoch 30/50\n",
      "8/8 [==============================] - 11s 1s/step - loss: 0.0223 - accuracy: 0.9972 - val_loss: 0.7804 - val_accuracy: 0.7750\n",
      "Epoch 31/50\n",
      "8/8 [==============================] - 11s 1s/step - loss: 0.0237 - accuracy: 0.9944 - val_loss: 0.7245 - val_accuracy: 0.7833\n",
      "Epoch 32/50\n",
      "8/8 [==============================] - 12s 1s/step - loss: 0.0242 - accuracy: 0.9944 - val_loss: 0.7405 - val_accuracy: 0.7917\n",
      "Epoch 33/50\n",
      "8/8 [==============================] - 13s 2s/step - loss: 0.0195 - accuracy: 0.9972 - val_loss: 0.9145 - val_accuracy: 0.7667\n",
      "Epoch 34/50\n",
      "8/8 [==============================] - 13s 2s/step - loss: 0.0267 - accuracy: 0.9972 - val_loss: 0.8149 - val_accuracy: 0.8083\n",
      "Epoch 35/50\n",
      "8/8 [==============================] - 13s 2s/step - loss: 0.0155 - accuracy: 1.0000 - val_loss: 0.8771 - val_accuracy: 0.7917\n",
      "Epoch 36/50\n",
      "8/8 [==============================] - 12s 1s/step - loss: 0.0147 - accuracy: 1.0000 - val_loss: 0.9203 - val_accuracy: 0.7750\n",
      "Epoch 37/50\n",
      "8/8 [==============================] - 11s 1s/step - loss: 0.1084 - accuracy: 0.9889 - val_loss: 0.8211 - val_accuracy: 0.7833\n",
      "Epoch 38/50\n",
      "8/8 [==============================] - 11s 1s/step - loss: 0.0542 - accuracy: 0.9833 - val_loss: 1.8845 - val_accuracy: 0.7667\n",
      "Epoch 39/50\n",
      "8/8 [==============================] - 12s 1s/step - loss: 0.0626 - accuracy: 0.9750 - val_loss: 1.7769 - val_accuracy: 0.7750\n",
      "Epoch 40/50\n",
      "8/8 [==============================] - 12s 1s/step - loss: 0.0423 - accuracy: 0.9833 - val_loss: 1.5037 - val_accuracy: 0.7583\n",
      "Epoch 41/50\n",
      "8/8 [==============================] - 12s 1s/step - loss: 0.0391 - accuracy: 0.9889 - val_loss: 0.9656 - val_accuracy: 0.8250\n",
      "Epoch 42/50\n",
      "8/8 [==============================] - 12s 1s/step - loss: 0.0709 - accuracy: 0.9806 - val_loss: 1.5126 - val_accuracy: 0.7667\n",
      "Epoch 43/50\n",
      "8/8 [==============================] - 12s 2s/step - loss: 0.0608 - accuracy: 0.9750 - val_loss: 3.2453 - val_accuracy: 0.5833\n",
      "Epoch 44/50\n",
      "8/8 [==============================] - 13s 2s/step - loss: 0.0605 - accuracy: 0.9722 - val_loss: 1.5227 - val_accuracy: 0.7417\n",
      "Epoch 45/50\n",
      "8/8 [==============================] - 13s 2s/step - loss: 0.0255 - accuracy: 0.9889 - val_loss: 1.2017 - val_accuracy: 0.8250\n",
      "Epoch 46/50\n",
      "8/8 [==============================] - 12s 1s/step - loss: 0.0255 - accuracy: 0.9889 - val_loss: 0.8913 - val_accuracy: 0.8500\n",
      "Epoch 47/50\n",
      "8/8 [==============================] - 11s 1s/step - loss: 0.0278 - accuracy: 0.9917 - val_loss: 0.8786 - val_accuracy: 0.8417\n",
      "Epoch 48/50\n",
      "8/8 [==============================] - 10s 1s/step - loss: 0.0242 - accuracy: 0.9944 - val_loss: 0.7298 - val_accuracy: 0.8167\n",
      "Epoch 49/50\n",
      "8/8 [==============================] - 11s 1s/step - loss: 0.0256 - accuracy: 0.9889 - val_loss: 0.6795 - val_accuracy: 0.8583\n",
      "Epoch 50/50\n",
      "8/8 [==============================] - 10s 1s/step - loss: 0.0159 - accuracy: 0.9972 - val_loss: 0.7378 - val_accuracy: 0.8000\n"
     ]
    },
    {
     "data": {
      "text/plain": [
       "<tensorflow.python.checkpoint.checkpoint.CheckpointLoadStatus at 0x1afd87bbf10>"
      ]
     },
     "execution_count": 10,
     "metadata": {},
     "output_type": "execute_result"
    }
   ],
   "source": [
    "# # compile and fit the keras model\n",
    "from tensorflow.keras.optimizers import Adam\n",
    "# # opt = SGD(learning_rate=lr, momentum=mom)\n",
    "adam = Adam(learning_rate=0.001)\n",
    "net.compile(loss='categorical_crossentropy', metrics=['accuracy'],optimizer='adam')\n",
    "\n",
    "\n",
    "# insert model check point call back\n",
    "checkpoint_filepath = 'tmp/checkpoint'\n",
    "model_checkpoint_callback = tf.keras.callbacks.ModelCheckpoint(\n",
    "    filepath=checkpoint_filepath,\n",
    "    save_weights_only=True,\n",
    "    monitor='val_accuracy',\n",
    "    mode='max',\n",
    "    save_best_only=True)\n",
    "# Model weights are saved at the end of every epoch, if it's the best seen\n",
    "# so far.\n",
    "history = net.fit(X_train, y_train, epochs=ep, batch_size=bs, validation_data=(X_val,y_val) , verbose=1, callbacks=[model_checkpoint_callback])\n",
    "# The model weights (that are considered the best) are loaded into the model.\n",
    "net.load_weights(checkpoint_filepath)"
   ]
  },
  {
   "cell_type": "code",
   "execution_count": 11,
   "id": "5e08f9a3",
   "metadata": {},
   "outputs": [],
   "source": [
    "# You can visualize the results with a confusion matrix.\n",
    "import seaborn as sn\n",
    "import numpy as np\n",
    "import matplotlib.pyplot as plt\n",
    "def plot_confusion_matrix(y_classified, y_true):\n",
    "  # Compute confusion matrix\n",
    "    c_mat = np.zeros((y_test.shape[1],y_test.shape[1]))\n",
    "    for i in range(len(y_true)):\n",
    "        c_mat[y_classified[i], y_true[i] ] += 1\n",
    "\n",
    "    group_counts = [\"{0:0.0f}\".format(value) for value in c_mat.flatten()]\n",
    "    group_percentages = [\"{0:.2%}\".format(value) for value in c_mat.flatten()/np.sum(c_mat)]\n",
    "    labels = [f\"{v1}\\n{v2}\" for v1, v2 in zip(group_counts, group_percentages)]\n",
    "    labels = np.asarray(labels).reshape(c_mat.shape[0], c_mat.shape[1])\n",
    "\n",
    "    plt.figure(figsize=(12,10))\n",
    "    sn.heatmap(c_mat, annot=labels, fmt='', cmap='rocket_r')\n",
    "    plt.title(\"Confusion Matrix\")\n",
    "    plt.ylabel('Output Class')\n",
    "    plt.xlabel('Target Class')"
   ]
  },
  {
   "cell_type": "code",
   "execution_count": 12,
   "id": "1d209f84",
   "metadata": {},
   "outputs": [
    {
     "name": "stdout",
     "output_type": "stream",
     "text": [
      "2/2 [==============================] - 0s 171ms/step - loss: 1.1080 - accuracy: 0.9000\n",
      "Test loss: 1.1080104112625122\n",
      "Test accuracy: 0.8999999761581421\n",
      "2/2 [==============================] - 0s 151ms/step\n",
      "Confusion matrix: \n",
      " [[19  0  0  0]\n",
      " [ 0 17  0  1]\n",
      " [ 1  1  0  3]\n",
      " [ 0  0  0 18]]\n"
     ]
    },
    {
     "data": {
      "image/png": "[encoded data removed]",
      "text/plain": [
       "<Figure size 864x720 with 2 Axes>"
      ]
     },
     "metadata": {
      "needs_background": "light"
     },
     "output_type": "display_data"
    }
   ],
   "source": [
    "# Evaluate the trained model using keras built-in function\n",
    "score = net.evaluate(X_test, y_test, verbose=1)\n",
    "print(\"Test loss:\", score[0])\n",
    "print(\"Test accuracy:\", score[1]) \n",
    "\n",
    "y_classified = np.argmax(net.predict(X_test), axis=1)\n",
    "y_true =  np.argmax(y_test, axis=1)\n",
    "# Compute the confusion matrix\n",
    "from sklearn.metrics import confusion_matrix, accuracy_score\n",
    "print(\"Confusion matrix: \\n\", confusion_matrix(y_true, y_classified))\n",
    "\n",
    "# plot confusion matrix\n",
    "plot_confusion_matrix(y_classified, y_true)"
   ]
  },
  {
   "cell_type": "code",
   "execution_count": 13,
   "id": "60453708",
   "metadata": {},
   "outputs": [
    {
     "name": "stdout",
     "output_type": "stream",
     "text": [
      "Confusion matrix: \n",
      " [[19  0  0  0]\n",
      " [ 0 17  0  1]\n",
      " [ 1  1  0  3]\n",
      " [ 0  0  0 18]]\n",
      "P(classification) = 0.9\n"
     ]
    }
   ],
   "source": [
    "# Compute the confusion matrix\n",
    "from sklearn.metrics import confusion_matrix, accuracy_score\n",
    "print(\"Confusion matrix: \\n\", confusion_matrix(y_true, y_classified))\n",
    "print(\"P(classification) =\", np.round(accuracy_score(y_true, y_classified), 3))"
   ]
  },
  {
   "cell_type": "code",
   "execution_count": null,
   "id": "c4f661a9",
   "metadata": {},
   "outputs": [],
   "source": []
  }
 ],
 "metadata": {
  "kernelspec": {
   "display_name": "Python 3 (ipykernel)",
   "language": "python",
   "name": "python3"
  },
  "language_info": {
   "codemirror_mode": {
    "name": "ipython",
    "version": 3
   },
   "file_extension": ".py",
   "mimetype": "text/x-python",
   "name": "python",
   "nbconvert_exporter": "python",
   "pygments_lexer": "ipython3",
   "version": "3.10.4"
  },
  "toc-autonumbering": true,
  "toc-showcode": true,
  "toc-showmarkdowntxt": false
 },
 "nbformat": 4,
 "nbformat_minor": 5
}
